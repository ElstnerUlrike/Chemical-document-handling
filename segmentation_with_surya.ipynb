{
 "cells": [
  {
   "cell_type": "code",
   "execution_count": 7,
   "metadata": {},
   "outputs": [],
   "source": [
    "from surya.detection import batch_text_detection\n",
    "from surya.layout import batch_layout_detection\n",
    "from surya.model.detection.segformer import load_model, load_processor\n",
    "from surya.settings import settings\n",
    "from PIL import Image\n",
    "import os\n",
    "import io\n",
    "import fitz\n",
    "import matplotlib.pyplot as plt\n",
    "from typing import List, Tuple\n",
    "from pathlib import Path"
   ]
  },
  {
   "cell_type": "markdown",
   "metadata": {},
   "source": [
    "## PDF Layout Detection and Processing Tool\n",
    "\n",
    "A robust tool for processing PDFs to detect and extract text/layout elements using \n",
    "the Surya detection framework. The script handles multiple PDFs, extracting and analyzing\n",
    "each page while maintaining a structured output format.\n",
    "  \n",
    "The script expects PDFs in a `paper_example` directory and creates separate output \n",
    "directories for each processed PDF."
   ]
  },
  {
   "cell_type": "code",
   "execution_count": 8,
   "metadata": {},
   "outputs": [
    {
     "name": "stdout",
     "output_type": "stream",
     "text": [
      "Loaded detection model vikp/surya_det2 on device cpu with dtype torch.float32\n",
      "Loaded detection model vikp/surya_layout2 on device cpu with dtype torch.float32\n"
     ]
    }
   ],
   "source": [
    "# Initialize models and processors for text detection and layout recognition\n",
    "det_processor = load_processor()\n",
    "det_model = load_model()\n",
    "rec_model = load_model(checkpoint=settings.LAYOUT_MODEL_CHECKPOINT)\n",
    "rec_processor = load_processor(checkpoint=settings.LAYOUT_MODEL_CHECKPOINT)"
   ]
  },
  {
   "cell_type": "code",
   "execution_count": 9,
   "metadata": {},
   "outputs": [],
   "source": [
    "def load_pdf_pages(pdf_path: str) -> List[Image.Image]:\n",
    "\n",
    "    \"\"\"\n",
    "    Convert PDF pages to PIL Images for processing.\n",
    "    Uses PyMuPDF to handle PDF conversion while maintaining image quality.\n",
    "    \"\"\"\n",
    "    \n",
    "    pdf_document = fitz.open(pdf_path)\n",
    "    images = []\n",
    "    for page in pdf_document:\n",
    "        # Convert page to pixmap for high-quality rendering\n",
    "        pix = page.get_pixmap()\n",
    "        # Convert to PNG format for consistent image processing\n",
    "        img = Image.open(io.BytesIO(pix.tobytes(output=\"png\")))\n",
    "        images.append(img)\n",
    "    return images"
   ]
  },
  {
   "cell_type": "code",
   "execution_count": null,
   "metadata": {},
   "outputs": [],
   "source": [
    "def process_images(images: List[Image.Image],\n",
    "                  det_model, det_processor,\n",
    "                  rec_model, rec_processor,\n",
    "                  output_dir: Path) -> None:\n",
    "    \n",
    "    \"\"\"\n",
    "    Two-stage pipeline for document analysis:\n",
    "    1. Text region detection using detection model\n",
    "    2. Layout analysis of detected regions\n",
    "    \n",
    "    Processes each image through both stages and saves results.\n",
    "    \"\"\"\n",
    "    \n",
    "    for i, image in enumerate(images):\n",
    "        try:\n",
    "            # Detect text regions in the image\n",
    "            line_predictions = batch_text_detection([image], det_model, det_processor)\n",
    "            \n",
    "            # Analyze layout structure of detected regions\n",
    "            layout_predictions = batch_layout_detection(\n",
    "                [image], rec_model, rec_processor, line_predictions\n",
    "            )\n",
    "            layout = layout_predictions[0]\n",
    "            \n",
    "            # Save detected regions if bounding boxes exist\n",
    "            if layout.bboxes:\n",
    "                save_images(image, i, layout.bboxes, output_dir)\n",
    "        except Exception as e:\n",
    "            print(f\"Error processing image {i}: {str(e)}\")"
   ]
  },
  {
   "cell_type": "code",
   "execution_count": 11,
   "metadata": {},
   "outputs": [],
   "source": [
    "def save_images(image: Image.Image, page_num: int, boxes: List[any], output_dir: Path) -> None:\n",
    "\n",
    "    \"\"\"\n",
    "    Extract and save detected figures from document.\n",
    "    Creates separate PNG files for each detected figure region.\n",
    "    \"\"\"\n",
    "    \n",
    "    for i, box in enumerate(boxes):\n",
    "        if box.label == \"Figure\":\n",
    "            output_path = output_dir / f'image_page{page_num}_{i}.png'\n",
    "            bbox = box.bbox\n",
    "            # Crop and save the figure using bounding box coordinates\n",
    "            fig = image.crop((bbox[0], bbox[1], bbox[2], bbox[3]))\n",
    "            fig.save(output_path)"
   ]
  },
  {
   "cell_type": "code",
   "execution_count": 12,
   "metadata": {},
   "outputs": [
    {
     "name": "stderr",
     "output_type": "stream",
     "text": [
      "Detecting bboxes: 100%|██████████| 1/1 [00:15<00:00, 15.82s/it]\n",
      "Detecting bboxes: 100%|██████████| 1/1 [00:08<00:00,  8.77s/it]\n",
      "Detecting bboxes: 100%|██████████| 1/1 [00:12<00:00, 12.69s/it]\n",
      "Detecting bboxes: 100%|██████████| 1/1 [00:06<00:00,  6.41s/it]\n",
      "Detecting bboxes: 100%|██████████| 1/1 [00:11<00:00, 11.86s/it]\n",
      "Detecting bboxes: 100%|██████████| 1/1 [00:06<00:00,  6.66s/it]\n",
      "Detecting bboxes: 100%|██████████| 1/1 [00:13<00:00, 13.51s/it]\n",
      "Detecting bboxes: 100%|██████████| 1/1 [00:08<00:00,  8.01s/it]\n",
      "Detecting bboxes: 100%|██████████| 1/1 [00:14<00:00, 14.94s/it]\n",
      "Detecting bboxes: 100%|██████████| 1/1 [00:09<00:00,  9.12s/it]\n",
      "Detecting bboxes: 100%|██████████| 1/1 [00:14<00:00, 14.76s/it]\n",
      "Detecting bboxes: 100%|██████████| 1/1 [00:08<00:00,  8.48s/it]\n",
      "Detecting bboxes: 100%|██████████| 1/1 [00:14<00:00, 14.97s/it]\n",
      "Detecting bboxes: 100%|██████████| 1/1 [00:07<00:00,  7.34s/it]\n",
      "Detecting bboxes: 100%|██████████| 1/1 [00:12<00:00, 12.10s/it]\n",
      "Detecting bboxes: 100%|██████████| 1/1 [00:07<00:00,  7.41s/it]\n"
     ]
    },
    {
     "name": "stdout",
     "output_type": "stream",
     "text": [
      "Processed paper_example/9.pdf\n"
     ]
    },
    {
     "name": "stderr",
     "output_type": "stream",
     "text": [
      "Detecting bboxes: 100%|██████████| 1/1 [00:14<00:00, 14.62s/it]\n",
      "Detecting bboxes: 100%|██████████| 1/1 [00:10<00:00, 10.30s/it]\n",
      "Detecting bboxes: 100%|██████████| 1/1 [00:13<00:00, 13.50s/it]\n",
      "Detecting bboxes: 100%|██████████| 1/1 [00:07<00:00,  7.59s/it]\n",
      "Detecting bboxes: 100%|██████████| 1/1 [00:16<00:00, 16.51s/it]\n",
      "Detecting bboxes: 100%|██████████| 1/1 [00:08<00:00,  8.63s/it]\n",
      "Detecting bboxes: 100%|██████████| 1/1 [00:14<00:00, 14.18s/it]\n",
      "Detecting bboxes: 100%|██████████| 1/1 [00:08<00:00,  8.58s/it]\n",
      "Detecting bboxes: 100%|██████████| 1/1 [00:12<00:00, 12.87s/it]\n",
      "Detecting bboxes: 100%|██████████| 1/1 [00:07<00:00,  7.23s/it]\n",
      "Detecting bboxes: 100%|██████████| 1/1 [00:13<00:00, 13.68s/it]\n",
      "Detecting bboxes: 100%|██████████| 1/1 [00:08<00:00,  8.26s/it]\n",
      "Detecting bboxes: 100%|██████████| 1/1 [00:13<00:00, 13.76s/it]\n",
      "Detecting bboxes: 100%|██████████| 1/1 [00:07<00:00,  7.33s/it]\n",
      "Detecting bboxes: 100%|██████████| 1/1 [00:12<00:00, 12.25s/it]\n",
      "Detecting bboxes: 100%|██████████| 1/1 [00:06<00:00,  6.75s/it]\n"
     ]
    },
    {
     "name": "stdout",
     "output_type": "stream",
     "text": [
      "Processed paper_example/8.pdf\n"
     ]
    },
    {
     "name": "stderr",
     "output_type": "stream",
     "text": [
      "Detecting bboxes: 100%|██████████| 1/1 [00:12<00:00, 12.16s/it]\n",
      "Detecting bboxes: 100%|██████████| 1/1 [00:07<00:00,  7.50s/it]\n",
      "Detecting bboxes: 100%|██████████| 1/1 [00:13<00:00, 13.50s/it]\n",
      "Detecting bboxes: 100%|██████████| 1/1 [00:06<00:00,  6.55s/it]\n",
      "Detecting bboxes: 100%|██████████| 1/1 [00:10<00:00, 10.83s/it]\n",
      "Detecting bboxes: 100%|██████████| 1/1 [00:08<00:00,  8.04s/it]\n",
      "Detecting bboxes: 100%|██████████| 1/1 [00:07<00:00,  7.92s/it]\n",
      "Detecting bboxes: 100%|██████████| 1/1 [00:04<00:00,  4.42s/it]\n",
      "Detecting bboxes: 100%|██████████| 1/1 [00:06<00:00,  6.66s/it]\n",
      "Detecting bboxes: 100%|██████████| 1/1 [00:03<00:00,  3.82s/it]\n",
      "Detecting bboxes: 100%|██████████| 1/1 [00:06<00:00,  6.70s/it]\n",
      "Detecting bboxes: 100%|██████████| 1/1 [00:03<00:00,  3.67s/it]\n"
     ]
    },
    {
     "name": "stdout",
     "output_type": "stream",
     "text": [
      "Processed paper_example/16.pdf\n"
     ]
    },
    {
     "name": "stderr",
     "output_type": "stream",
     "text": [
      "Detecting bboxes: 100%|██████████| 1/1 [00:07<00:00,  7.07s/it]\n",
      "Detecting bboxes: 100%|██████████| 1/1 [00:03<00:00,  3.75s/it]\n",
      "Detecting bboxes: 100%|██████████| 1/1 [00:07<00:00,  7.12s/it]\n",
      "Detecting bboxes: 100%|██████████| 1/1 [00:03<00:00,  3.73s/it]\n",
      "Detecting bboxes: 100%|██████████| 1/1 [00:06<00:00,  6.89s/it]\n",
      "Detecting bboxes: 100%|██████████| 1/1 [00:03<00:00,  3.69s/it]\n",
      "Detecting bboxes: 100%|██████████| 1/1 [00:07<00:00,  7.12s/it]\n",
      "Detecting bboxes: 100%|██████████| 1/1 [00:04<00:00,  4.08s/it]\n",
      "Detecting bboxes: 100%|██████████| 1/1 [00:07<00:00,  7.12s/it]\n",
      "Detecting bboxes: 100%|██████████| 1/1 [00:03<00:00,  3.78s/it]\n"
     ]
    },
    {
     "name": "stdout",
     "output_type": "stream",
     "text": [
      "Processed paper_example/17.pdf\n"
     ]
    },
    {
     "name": "stderr",
     "output_type": "stream",
     "text": [
      "Detecting bboxes: 100%|██████████| 1/1 [00:06<00:00,  6.82s/it]\n",
      "Detecting bboxes: 100%|██████████| 1/1 [00:03<00:00,  3.86s/it]\n",
      "Detecting bboxes: 100%|██████████| 1/1 [00:06<00:00,  6.65s/it]\n",
      "Detecting bboxes: 100%|██████████| 1/1 [00:03<00:00,  3.91s/it]\n",
      "Detecting bboxes: 100%|██████████| 1/1 [00:07<00:00,  7.21s/it]\n",
      "Detecting bboxes: 100%|██████████| 1/1 [00:04<00:00,  4.11s/it]\n",
      "Detecting bboxes: 100%|██████████| 1/1 [00:06<00:00,  6.83s/it]\n",
      "Detecting bboxes: 100%|██████████| 1/1 [00:03<00:00,  3.79s/it]\n",
      "Detecting bboxes: 100%|██████████| 1/1 [00:06<00:00,  6.70s/it]\n",
      "Detecting bboxes: 100%|██████████| 1/1 [00:03<00:00,  3.75s/it]\n",
      "Detecting bboxes: 100%|██████████| 1/1 [00:06<00:00,  6.51s/it]\n",
      "Detecting bboxes: 100%|██████████| 1/1 [00:03<00:00,  3.67s/it]\n",
      "Detecting bboxes: 100%|██████████| 1/1 [00:06<00:00,  6.45s/it]\n",
      "Detecting bboxes: 100%|██████████| 1/1 [00:03<00:00,  3.66s/it]\n",
      "Detecting bboxes: 100%|██████████| 1/1 [00:06<00:00,  6.68s/it]\n",
      "Detecting bboxes: 100%|██████████| 1/1 [00:03<00:00,  3.74s/it]\n",
      "Detecting bboxes: 100%|██████████| 1/1 [00:06<00:00,  6.35s/it]\n",
      "Detecting bboxes: 100%|██████████| 1/1 [00:03<00:00,  3.75s/it]\n",
      "Detecting bboxes: 100%|██████████| 1/1 [00:06<00:00,  6.36s/it]\n",
      "Detecting bboxes: 100%|██████████| 1/1 [00:03<00:00,  3.65s/it]\n",
      "Detecting bboxes: 100%|██████████| 1/1 [00:06<00:00,  6.54s/it]\n",
      "Detecting bboxes: 100%|██████████| 1/1 [00:03<00:00,  3.72s/it]\n",
      "Detecting bboxes: 100%|██████████| 1/1 [00:06<00:00,  6.58s/it]\n",
      "Detecting bboxes: 100%|██████████| 1/1 [00:03<00:00,  3.61s/it]\n",
      "Detecting bboxes: 100%|██████████| 1/1 [00:06<00:00,  6.94s/it]\n",
      "Detecting bboxes: 100%|██████████| 1/1 [00:03<00:00,  3.84s/it]\n",
      "Detecting bboxes: 100%|██████████| 1/1 [00:06<00:00,  6.61s/it]\n",
      "Detecting bboxes: 100%|██████████| 1/1 [00:03<00:00,  3.92s/it]\n"
     ]
    },
    {
     "name": "stdout",
     "output_type": "stream",
     "text": [
      "Processed paper_example/15.pdf\n"
     ]
    },
    {
     "name": "stderr",
     "output_type": "stream",
     "text": [
      "Detecting bboxes: 100%|██████████| 1/1 [00:07<00:00,  7.25s/it]\n",
      "Detecting bboxes: 100%|██████████| 1/1 [00:04<00:00,  4.23s/it]\n",
      "Detecting bboxes: 100%|██████████| 1/1 [00:07<00:00,  7.06s/it]\n",
      "Detecting bboxes: 100%|██████████| 1/1 [00:03<00:00,  3.71s/it]\n",
      "Detecting bboxes: 100%|██████████| 1/1 [00:06<00:00,  6.54s/it]\n",
      "Detecting bboxes: 100%|██████████| 1/1 [00:03<00:00,  3.69s/it]\n",
      "Detecting bboxes: 100%|██████████| 1/1 [00:07<00:00,  7.02s/it]\n",
      "Detecting bboxes: 100%|██████████| 1/1 [00:03<00:00,  3.69s/it]\n",
      "Detecting bboxes: 100%|██████████| 1/1 [00:06<00:00,  6.61s/it]\n",
      "Detecting bboxes: 100%|██████████| 1/1 [00:03<00:00,  3.83s/it]\n",
      "Detecting bboxes: 100%|██████████| 1/1 [00:06<00:00,  6.64s/it]\n",
      "Detecting bboxes: 100%|██████████| 1/1 [00:03<00:00,  3.62s/it]\n",
      "Detecting bboxes: 100%|██████████| 1/1 [00:06<00:00,  6.55s/it]\n",
      "Detecting bboxes: 100%|██████████| 1/1 [00:03<00:00,  3.69s/it]\n",
      "Detecting bboxes: 100%|██████████| 1/1 [00:06<00:00,  6.58s/it]\n",
      "Detecting bboxes: 100%|██████████| 1/1 [00:03<00:00,  3.62s/it]\n",
      "Detecting bboxes: 100%|██████████| 1/1 [00:06<00:00,  6.81s/it]\n",
      "Detecting bboxes: 100%|██████████| 1/1 [00:03<00:00,  3.87s/it]\n"
     ]
    },
    {
     "name": "stdout",
     "output_type": "stream",
     "text": [
      "Processed paper_example/14.pdf\n"
     ]
    },
    {
     "name": "stderr",
     "output_type": "stream",
     "text": [
      "Detecting bboxes: 100%|██████████| 1/1 [00:06<00:00,  6.83s/it]\n",
      "Detecting bboxes: 100%|██████████| 1/1 [00:03<00:00,  3.88s/it]\n",
      "Detecting bboxes: 100%|██████████| 1/1 [00:07<00:00,  7.52s/it]\n",
      "Detecting bboxes: 100%|██████████| 1/1 [00:04<00:00,  4.45s/it]\n",
      "Detecting bboxes: 100%|██████████| 1/1 [00:06<00:00,  6.60s/it]\n",
      "Detecting bboxes: 100%|██████████| 1/1 [00:03<00:00,  3.63s/it]\n",
      "Detecting bboxes: 100%|██████████| 1/1 [00:06<00:00,  6.66s/it]\n",
      "Detecting bboxes: 100%|██████████| 1/1 [00:03<00:00,  3.80s/it]\n",
      "Detecting bboxes: 100%|██████████| 1/1 [00:06<00:00,  6.61s/it]\n",
      "Detecting bboxes: 100%|██████████| 1/1 [00:03<00:00,  3.71s/it]\n",
      "Detecting bboxes: 100%|██████████| 1/1 [00:06<00:00,  6.67s/it]\n",
      "Detecting bboxes: 100%|██████████| 1/1 [00:03<00:00,  3.66s/it]\n",
      "Detecting bboxes: 100%|██████████| 1/1 [00:06<00:00,  6.64s/it]\n",
      "Detecting bboxes: 100%|██████████| 1/1 [00:03<00:00,  3.64s/it]\n",
      "Detecting bboxes: 100%|██████████| 1/1 [00:06<00:00,  6.56s/it]\n",
      "Detecting bboxes: 100%|██████████| 1/1 [00:03<00:00,  3.71s/it]\n",
      "Detecting bboxes: 100%|██████████| 1/1 [00:06<00:00,  6.84s/it]\n",
      "Detecting bboxes: 100%|██████████| 1/1 [00:03<00:00,  3.71s/it]\n",
      "Detecting bboxes: 100%|██████████| 1/1 [00:06<00:00,  6.45s/it]\n",
      "Detecting bboxes: 100%|██████████| 1/1 [00:03<00:00,  3.81s/it]\n"
     ]
    },
    {
     "name": "stdout",
     "output_type": "stream",
     "text": [
      "Processed paper_example/10.pdf\n"
     ]
    },
    {
     "name": "stderr",
     "output_type": "stream",
     "text": [
      "Detecting bboxes: 100%|██████████| 1/1 [00:07<00:00,  7.30s/it]\n",
      "Detecting bboxes: 100%|██████████| 1/1 [00:04<00:00,  4.09s/it]\n",
      "Detecting bboxes: 100%|██████████| 1/1 [00:06<00:00,  6.91s/it]\n",
      "Detecting bboxes: 100%|██████████| 1/1 [00:03<00:00,  3.76s/it]\n",
      "Detecting bboxes: 100%|██████████| 1/1 [00:06<00:00,  6.62s/it]\n",
      "Detecting bboxes: 100%|██████████| 1/1 [00:03<00:00,  3.67s/it]\n",
      "Detecting bboxes: 100%|██████████| 1/1 [00:06<00:00,  6.45s/it]\n",
      "Detecting bboxes: 100%|██████████| 1/1 [00:03<00:00,  3.80s/it]\n",
      "Detecting bboxes: 100%|██████████| 1/1 [00:06<00:00,  6.72s/it]\n",
      "Detecting bboxes: 100%|██████████| 1/1 [00:03<00:00,  3.82s/it]\n",
      "Detecting bboxes: 100%|██████████| 1/1 [00:06<00:00,  6.34s/it]\n",
      "Detecting bboxes: 100%|██████████| 1/1 [00:03<00:00,  3.65s/it]\n"
     ]
    },
    {
     "name": "stdout",
     "output_type": "stream",
     "text": [
      "Processed paper_example/11.pdf\n"
     ]
    },
    {
     "name": "stderr",
     "output_type": "stream",
     "text": [
      "Detecting bboxes: 100%|██████████| 1/1 [00:06<00:00,  6.61s/it]\n",
      "Detecting bboxes: 100%|██████████| 1/1 [00:03<00:00,  3.71s/it]\n",
      "Detecting bboxes: 100%|██████████| 1/1 [00:06<00:00,  6.60s/it]\n",
      "Detecting bboxes: 100%|██████████| 1/1 [00:03<00:00,  3.73s/it]\n",
      "Detecting bboxes: 100%|██████████| 1/1 [00:06<00:00,  6.50s/it]\n",
      "Detecting bboxes: 100%|██████████| 1/1 [00:03<00:00,  3.67s/it]\n",
      "Detecting bboxes: 100%|██████████| 1/1 [00:06<00:00,  6.76s/it]\n",
      "Detecting bboxes: 100%|██████████| 1/1 [00:03<00:00,  3.81s/it]\n",
      "Detecting bboxes: 100%|██████████| 1/1 [00:06<00:00,  6.62s/it]\n",
      "Detecting bboxes: 100%|██████████| 1/1 [00:03<00:00,  3.86s/it]\n",
      "Detecting bboxes: 100%|██████████| 1/1 [00:06<00:00,  6.61s/it]\n",
      "Detecting bboxes: 100%|██████████| 1/1 [00:04<00:00,  4.24s/it]\n",
      "Detecting bboxes: 100%|██████████| 1/1 [00:06<00:00,  6.62s/it]\n",
      "Detecting bboxes: 100%|██████████| 1/1 [00:03<00:00,  3.66s/it]\n",
      "Detecting bboxes: 100%|██████████| 1/1 [00:06<00:00,  6.60s/it]\n",
      "Detecting bboxes: 100%|██████████| 1/1 [00:03<00:00,  3.63s/it]\n",
      "Detecting bboxes: 100%|██████████| 1/1 [00:06<00:00,  6.96s/it]\n",
      "Detecting bboxes: 100%|██████████| 1/1 [00:03<00:00,  3.74s/it]\n",
      "Detecting bboxes: 100%|██████████| 1/1 [00:06<00:00,  6.66s/it]\n",
      "Detecting bboxes: 100%|██████████| 1/1 [00:03<00:00,  3.84s/it]\n",
      "Detecting bboxes: 100%|██████████| 1/1 [00:06<00:00,  6.70s/it]\n",
      "Detecting bboxes: 100%|██████████| 1/1 [00:03<00:00,  3.96s/it]\n",
      "Detecting bboxes: 100%|██████████| 1/1 [00:06<00:00,  6.67s/it]\n",
      "Detecting bboxes: 100%|██████████| 1/1 [00:04<00:00,  4.02s/it]\n",
      "Detecting bboxes: 100%|██████████| 1/1 [00:07<00:00,  7.02s/it]\n",
      "Detecting bboxes: 100%|██████████| 1/1 [00:04<00:00,  4.08s/it]\n",
      "Detecting bboxes: 100%|██████████| 1/1 [00:07<00:00,  7.35s/it]\n",
      "Detecting bboxes: 100%|██████████| 1/1 [00:03<00:00,  3.89s/it]\n",
      "Detecting bboxes: 100%|██████████| 1/1 [00:06<00:00,  6.96s/it]\n",
      "Detecting bboxes: 100%|██████████| 1/1 [00:03<00:00,  3.82s/it]\n",
      "Detecting bboxes: 100%|██████████| 1/1 [00:07<00:00,  7.19s/it]\n",
      "Detecting bboxes: 100%|██████████| 1/1 [00:03<00:00,  3.83s/it]\n",
      "Detecting bboxes: 100%|██████████| 1/1 [00:06<00:00,  6.90s/it]\n",
      "Detecting bboxes: 100%|██████████| 1/1 [00:04<00:00,  4.29s/it]\n",
      "Detecting bboxes: 100%|██████████| 1/1 [00:07<00:00,  7.25s/it]\n",
      "Detecting bboxes: 100%|██████████| 1/1 [00:03<00:00,  3.97s/it]\n",
      "Detecting bboxes: 100%|██████████| 1/1 [00:07<00:00,  7.21s/it]\n",
      "Detecting bboxes: 100%|██████████| 1/1 [00:04<00:00,  4.11s/it]\n"
     ]
    },
    {
     "name": "stdout",
     "output_type": "stream",
     "text": [
      "Processed paper_example/13.pdf\n"
     ]
    },
    {
     "name": "stderr",
     "output_type": "stream",
     "text": [
      "Detecting bboxes: 100%|██████████| 1/1 [00:07<00:00,  7.14s/it]\n",
      "Detecting bboxes: 100%|██████████| 1/1 [00:03<00:00,  3.69s/it]\n",
      "Detecting bboxes: 100%|██████████| 1/1 [00:07<00:00,  7.05s/it]\n",
      "Detecting bboxes: 100%|██████████| 1/1 [00:04<00:00,  4.04s/it]\n",
      "Detecting bboxes: 100%|██████████| 1/1 [00:07<00:00,  7.27s/it]\n",
      "Detecting bboxes: 100%|██████████| 1/1 [00:04<00:00,  4.56s/it]\n",
      "Detecting bboxes: 100%|██████████| 1/1 [00:07<00:00,  7.07s/it]\n",
      "Detecting bboxes: 100%|██████████| 1/1 [00:03<00:00,  3.83s/it]\n",
      "Detecting bboxes: 100%|██████████| 1/1 [00:06<00:00,  6.64s/it]\n",
      "Detecting bboxes: 100%|██████████| 1/1 [00:03<00:00,  3.68s/it]\n"
     ]
    },
    {
     "name": "stdout",
     "output_type": "stream",
     "text": [
      "Processed paper_example/12.pdf\n"
     ]
    },
    {
     "name": "stderr",
     "output_type": "stream",
     "text": [
      "Detecting bboxes: 100%|██████████| 1/1 [00:06<00:00,  6.54s/it]\n",
      "Detecting bboxes: 100%|██████████| 1/1 [00:03<00:00,  3.77s/it]\n",
      "Detecting bboxes: 100%|██████████| 1/1 [00:06<00:00,  6.63s/it]\n",
      "Detecting bboxes: 100%|██████████| 1/1 [00:03<00:00,  3.58s/it]\n",
      "Detecting bboxes: 100%|██████████| 1/1 [00:06<00:00,  6.27s/it]\n",
      "Detecting bboxes: 100%|██████████| 1/1 [00:03<00:00,  3.75s/it]\n",
      "Detecting bboxes: 100%|██████████| 1/1 [00:06<00:00,  6.67s/it]\n",
      "Detecting bboxes: 100%|██████████| 1/1 [00:03<00:00,  3.73s/it]\n",
      "Detecting bboxes: 100%|██████████| 1/1 [00:06<00:00,  6.64s/it]\n",
      "Detecting bboxes: 100%|██████████| 1/1 [00:03<00:00,  3.76s/it]\n",
      "Detecting bboxes: 100%|██████████| 1/1 [00:06<00:00,  6.53s/it]\n",
      "Detecting bboxes: 100%|██████████| 1/1 [00:03<00:00,  3.60s/it]\n",
      "Detecting bboxes: 100%|██████████| 1/1 [00:06<00:00,  6.36s/it]\n",
      "Detecting bboxes: 100%|██████████| 1/1 [00:03<00:00,  3.65s/it]\n"
     ]
    },
    {
     "name": "stdout",
     "output_type": "stream",
     "text": [
      "Processed paper_example/20.pdf\n"
     ]
    },
    {
     "name": "stderr",
     "output_type": "stream",
     "text": [
      "Detecting bboxes: 100%|██████████| 1/1 [00:07<00:00,  7.17s/it]\n",
      "Detecting bboxes: 100%|██████████| 1/1 [00:04<00:00,  4.03s/it]\n",
      "Detecting bboxes: 100%|██████████| 1/1 [00:07<00:00,  7.27s/it]\n",
      "Detecting bboxes: 100%|██████████| 1/1 [00:04<00:00,  4.36s/it]\n",
      "Detecting bboxes: 100%|██████████| 1/1 [00:07<00:00,  7.02s/it]\n",
      "Detecting bboxes: 100%|██████████| 1/1 [00:03<00:00,  3.82s/it]\n",
      "Detecting bboxes: 100%|██████████| 1/1 [00:06<00:00,  6.51s/it]\n",
      "Detecting bboxes: 100%|██████████| 1/1 [00:03<00:00,  3.84s/it]\n",
      "Detecting bboxes: 100%|██████████| 1/1 [00:06<00:00,  6.87s/it]\n",
      "Detecting bboxes: 100%|██████████| 1/1 [00:03<00:00,  3.65s/it]\n",
      "Detecting bboxes: 100%|██████████| 1/1 [00:06<00:00,  6.60s/it]\n",
      "Detecting bboxes: 100%|██████████| 1/1 [00:03<00:00,  3.75s/it]\n",
      "Detecting bboxes: 100%|██████████| 1/1 [00:06<00:00,  6.22s/it]\n",
      "Detecting bboxes: 100%|██████████| 1/1 [00:03<00:00,  3.91s/it]\n"
     ]
    },
    {
     "name": "stdout",
     "output_type": "stream",
     "text": [
      "Processed paper_example/21.pdf\n"
     ]
    },
    {
     "name": "stderr",
     "output_type": "stream",
     "text": [
      "Detecting bboxes: 100%|██████████| 1/1 [00:06<00:00,  6.88s/it]\n",
      "Detecting bboxes: 100%|██████████| 1/1 [00:03<00:00,  3.85s/it]\n",
      "Detecting bboxes: 100%|██████████| 1/1 [00:06<00:00,  6.76s/it]\n",
      "Detecting bboxes: 100%|██████████| 1/1 [00:03<00:00,  3.75s/it]\n",
      "Detecting bboxes: 100%|██████████| 1/1 [00:07<00:00,  7.22s/it]\n",
      "Detecting bboxes: 100%|██████████| 1/1 [00:03<00:00,  3.90s/it]\n",
      "Detecting bboxes: 100%|██████████| 1/1 [00:06<00:00,  6.84s/it]\n",
      "Detecting bboxes: 100%|██████████| 1/1 [00:03<00:00,  3.95s/it]\n",
      "Detecting bboxes: 100%|██████████| 1/1 [00:07<00:00,  7.14s/it]\n",
      "Detecting bboxes: 100%|██████████| 1/1 [00:04<00:00,  4.17s/it]\n",
      "Detecting bboxes: 100%|██████████| 1/1 [00:06<00:00,  6.70s/it]\n",
      "Detecting bboxes: 100%|██████████| 1/1 [00:03<00:00,  3.68s/it]\n",
      "Detecting bboxes: 100%|██████████| 1/1 [00:06<00:00,  6.35s/it]\n",
      "Detecting bboxes: 100%|██████████| 1/1 [00:03<00:00,  3.66s/it]\n"
     ]
    },
    {
     "name": "stdout",
     "output_type": "stream",
     "text": [
      "Processed paper_example/19.pdf\n"
     ]
    },
    {
     "name": "stderr",
     "output_type": "stream",
     "text": [
      "Detecting bboxes: 100%|██████████| 1/1 [00:07<00:00,  7.18s/it]\n",
      "Detecting bboxes: 100%|██████████| 1/1 [00:03<00:00,  3.92s/it]\n",
      "Detecting bboxes: 100%|██████████| 1/1 [00:07<00:00,  7.05s/it]\n",
      "Detecting bboxes: 100%|██████████| 1/1 [00:03<00:00,  3.80s/it]\n",
      "Detecting bboxes: 100%|██████████| 1/1 [00:07<00:00,  7.13s/it]\n",
      "Detecting bboxes: 100%|██████████| 1/1 [00:03<00:00,  3.83s/it]\n",
      "Detecting bboxes: 100%|██████████| 1/1 [00:06<00:00,  6.64s/it]\n",
      "Detecting bboxes: 100%|██████████| 1/1 [00:04<00:00,  4.11s/it]\n",
      "Detecting bboxes: 100%|██████████| 1/1 [00:06<00:00,  6.65s/it]\n",
      "Detecting bboxes: 100%|██████████| 1/1 [00:03<00:00,  3.65s/it]\n",
      "Detecting bboxes: 100%|██████████| 1/1 [00:06<00:00,  6.67s/it]\n",
      "Detecting bboxes: 100%|██████████| 1/1 [00:03<00:00,  3.86s/it]\n"
     ]
    },
    {
     "name": "stdout",
     "output_type": "stream",
     "text": [
      "Processed paper_example/18.pdf\n"
     ]
    },
    {
     "name": "stderr",
     "output_type": "stream",
     "text": [
      "Detecting bboxes: 100%|██████████| 1/1 [00:07<00:00,  7.10s/it]\n",
      "Detecting bboxes: 100%|██████████| 1/1 [00:03<00:00,  3.76s/it]\n",
      "Detecting bboxes: 100%|██████████| 1/1 [00:07<00:00,  7.25s/it]\n",
      "Detecting bboxes: 100%|██████████| 1/1 [00:03<00:00,  3.75s/it]\n",
      "Detecting bboxes: 100%|██████████| 1/1 [00:06<00:00,  6.69s/it]\n",
      "Detecting bboxes: 100%|██████████| 1/1 [00:03<00:00,  3.78s/it]\n",
      "Detecting bboxes: 100%|██████████| 1/1 [00:06<00:00,  6.90s/it]\n",
      "Detecting bboxes: 100%|██████████| 1/1 [00:03<00:00,  3.78s/it]\n"
     ]
    },
    {
     "name": "stdout",
     "output_type": "stream",
     "text": [
      "Processed paper_example/6.pdf\n"
     ]
    },
    {
     "name": "stderr",
     "output_type": "stream",
     "text": [
      "Detecting bboxes: 100%|██████████| 1/1 [00:06<00:00,  6.49s/it]\n",
      "Detecting bboxes: 100%|██████████| 1/1 [00:03<00:00,  3.81s/it]\n",
      "Detecting bboxes: 100%|██████████| 1/1 [00:06<00:00,  6.72s/it]\n",
      "Detecting bboxes: 100%|██████████| 1/1 [00:03<00:00,  3.68s/it]\n",
      "Detecting bboxes: 100%|██████████| 1/1 [00:06<00:00,  6.50s/it]\n",
      "Detecting bboxes: 100%|██████████| 1/1 [00:03<00:00,  3.60s/it]\n",
      "Detecting bboxes: 100%|██████████| 1/1 [00:06<00:00,  6.24s/it]\n",
      "Detecting bboxes: 100%|██████████| 1/1 [00:03<00:00,  3.51s/it]\n",
      "Detecting bboxes: 100%|██████████| 1/1 [00:06<00:00,  6.30s/it]\n",
      "Detecting bboxes: 100%|██████████| 1/1 [00:03<00:00,  3.44s/it]\n",
      "Detecting bboxes: 100%|██████████| 1/1 [00:06<00:00,  6.15s/it]\n",
      "Detecting bboxes: 100%|██████████| 1/1 [00:03<00:00,  3.48s/it]\n",
      "Detecting bboxes: 100%|██████████| 1/1 [00:06<00:00,  6.58s/it]\n",
      "Detecting bboxes: 100%|██████████| 1/1 [00:03<00:00,  3.56s/it]\n",
      "Detecting bboxes: 100%|██████████| 1/1 [00:06<00:00,  6.64s/it]\n",
      "Detecting bboxes: 100%|██████████| 1/1 [00:03<00:00,  3.80s/it]\n"
     ]
    },
    {
     "name": "stdout",
     "output_type": "stream",
     "text": [
      "Processed paper_example/7.pdf\n"
     ]
    },
    {
     "name": "stderr",
     "output_type": "stream",
     "text": [
      "Detecting bboxes: 100%|██████████| 1/1 [00:08<00:00,  8.63s/it]\n",
      "Detecting bboxes: 100%|██████████| 1/1 [00:04<00:00,  4.37s/it]\n",
      "Detecting bboxes: 100%|██████████| 1/1 [04:14<00:00, 254.61s/it]\n",
      "Detecting bboxes: 100%|██████████| 1/1 [17:34<00:00, 1054.63s/it]\n",
      "Detecting bboxes: 100%|██████████| 1/1 [15:37<00:00, 937.56s/it]\n",
      "Detecting bboxes: 100%|██████████| 1/1 [06:10<00:00, 370.56s/it]\n",
      "Detecting bboxes: 100%|██████████| 1/1 [17:32<00:00, 1052.19s/it]\n",
      "Detecting bboxes: 100%|██████████| 1/1 [15:41<00:00, 941.13s/it]\n",
      "Detecting bboxes: 100%|██████████| 1/1 [16:39<00:00, 999.17s/it]\n",
      "Detecting bboxes: 100%|██████████| 1/1 [16:29<00:00, 989.87s/it]\n",
      "Detecting bboxes: 100%|██████████| 1/1 [12:15<00:00, 735.80s/it]\n",
      "Detecting bboxes: 100%|██████████| 1/1 [16:26<00:00, 986.95s/it]\n",
      "Detecting bboxes: 100%|██████████| 1/1 [15:27<00:00, 927.94s/it]\n",
      "Detecting bboxes: 100%|██████████| 1/1 [17:57<00:00, 1077.52s/it]\n"
     ]
    },
    {
     "name": "stdout",
     "output_type": "stream",
     "text": [
      "Processed paper_example/5.pdf\n"
     ]
    },
    {
     "name": "stderr",
     "output_type": "stream",
     "text": [
      "Detecting bboxes: 100%|██████████| 1/1 [11:42<00:00, 702.76s/it]\n",
      "Detecting bboxes: 100%|██████████| 1/1 [00:59<00:00, 59.31s/it]\n",
      "Detecting bboxes: 100%|██████████| 1/1 [16:43<00:00, 1003.37s/it]\n",
      "Detecting bboxes: 100%|██████████| 1/1 [17:55<00:00, 1075.18s/it]\n",
      "Detecting bboxes: 100%|██████████| 1/1 [16:47<00:00, 1007.41s/it]\n",
      "Detecting bboxes: 100%|██████████| 1/1 [11:41<00:00, 701.48s/it]\n",
      "Detecting bboxes: 100%|██████████| 1/1 [17:47<00:00, 1067.22s/it]\n",
      "Detecting bboxes: 100%|██████████| 1/1 [00:03<00:00,  3.56s/it]\n",
      "Detecting bboxes: 100%|██████████| 1/1 [32:44<00:00, 1964.27s/it]\n",
      "Detecting bboxes: 100%|██████████| 1/1 [00:03<00:00,  3.51s/it]\n",
      "Detecting bboxes: 100%|██████████| 1/1 [32:06<00:00, 1926.70s/it]\n",
      "Detecting bboxes: 100%|██████████| 1/1 [00:03<00:00,  3.31s/it]\n",
      "Detecting bboxes: 100%|██████████| 1/1 [15:47<00:00, 947.14s/it]\n",
      "Detecting bboxes: 100%|██████████| 1/1 [17:20<00:00, 1040.08s/it]\n",
      "Detecting bboxes: 100%|██████████| 1/1 [16:15<00:00, 975.26s/it]\n",
      "Detecting bboxes: 100%|██████████| 1/1 [00:03<00:00,  3.70s/it]\n"
     ]
    },
    {
     "name": "stdout",
     "output_type": "stream",
     "text": [
      "Processed paper_example/4.pdf\n"
     ]
    },
    {
     "name": "stderr",
     "output_type": "stream",
     "text": [
      "Detecting bboxes: 100%|██████████| 1/1 [10:32<00:00, 632.85s/it]\n",
      "Detecting bboxes: 100%|██████████| 1/1 [10:23<00:00, 623.42s/it]\n",
      "Detecting bboxes: 100%|██████████| 1/1 [11:21<00:00, 681.45s/it]\n",
      "Detecting bboxes: 100%|██████████| 1/1 [00:03<00:00,  3.23s/it]\n",
      "Detecting bboxes: 100%|██████████| 1/1 [09:40<00:00, 580.85s/it]\n",
      "Detecting bboxes: 100%|██████████| 1/1 [00:07<00:00,  7.05s/it]\n",
      "Detecting bboxes: 100%|██████████| 1/1 [00:06<00:00,  6.22s/it]\n",
      "Detecting bboxes: 100%|██████████| 1/1 [00:03<00:00,  3.51s/it]\n",
      "Detecting bboxes: 100%|██████████| 1/1 [17:11<00:00, 1031.98s/it]\n",
      "Detecting bboxes: 100%|██████████| 1/1 [05:28<00:00, 328.09s/it]\n",
      "Detecting bboxes: 100%|██████████| 1/1 [17:14<00:00, 1034.40s/it]\n",
      "Detecting bboxes: 100%|██████████| 1/1 [17:10<00:00, 1030.36s/it]\n",
      "Detecting bboxes: 100%|██████████| 1/1 [17:20<00:00, 1040.30s/it]\n",
      "Detecting bboxes: 100%|██████████| 1/1 [16:25<00:00, 985.89s/it]\n",
      "Detecting bboxes: 100%|██████████| 1/1 [00:06<00:00,  6.03s/it]\n",
      "Detecting bboxes: 100%|██████████| 1/1 [00:03<00:00,  3.99s/it]\n",
      "Detecting bboxes: 100%|██████████| 1/1 [17:52<00:00, 1072.04s/it]\n",
      "Detecting bboxes: 100%|██████████| 1/1 [15:06<00:00, 906.01s/it]\n",
      "Detecting bboxes: 100%|██████████| 1/1 [17:41<00:00, 1061.06s/it]\n",
      "Detecting bboxes: 100%|██████████| 1/1 [16:09<00:00, 969.35s/it]\n",
      "Detecting bboxes: 100%|██████████| 1/1 [15:15<00:00, 915.13s/it]\n",
      "Detecting bboxes: 100%|██████████| 1/1 [16:02<00:00, 962.08s/it]\n",
      "Detecting bboxes: 100%|██████████| 1/1 [15:13<00:00, 913.51s/it]\n",
      "Detecting bboxes: 100%|██████████| 1/1 [17:46<00:00, 1066.20s/it]\n",
      "Detecting bboxes: 100%|██████████| 1/1 [18:00<00:00, 1080.78s/it]\n",
      "Detecting bboxes: 100%|██████████| 1/1 [17:43<00:00, 1063.32s/it]\n",
      "Detecting bboxes: 100%|██████████| 1/1 [05:24<00:00, 324.93s/it]\n",
      "Detecting bboxes: 100%|██████████| 1/1 [15:14<00:00, 914.30s/it]\n",
      "Detecting bboxes: 100%|██████████| 1/1 [15:11<00:00, 911.76s/it]\n",
      "Detecting bboxes: 100%|██████████| 1/1 [16:46<00:00, 1006.15s/it]\n",
      "Detecting bboxes: 100%|██████████| 1/1 [07:25<00:00, 445.39s/it]\n",
      "Detecting bboxes: 100%|██████████| 1/1 [00:20<00:00, 20.10s/it]\n",
      "Detecting bboxes: 100%|██████████| 1/1 [00:07<00:00,  7.92s/it]\n",
      "Detecting bboxes: 100%|██████████| 1/1 [00:08<00:00,  8.18s/it]\n",
      "Detecting bboxes: 100%|██████████| 1/1 [00:07<00:00,  7.90s/it]\n",
      "Detecting bboxes: 100%|██████████| 1/1 [00:04<00:00,  4.18s/it]\n"
     ]
    },
    {
     "name": "stdout",
     "output_type": "stream",
     "text": [
      "Processed paper_example/1.pdf\n"
     ]
    },
    {
     "name": "stderr",
     "output_type": "stream",
     "text": [
      "Detecting bboxes: 100%|██████████| 1/1 [00:07<00:00,  7.78s/it]\n",
      "Detecting bboxes: 100%|██████████| 1/1 [00:05<00:00,  5.36s/it]\n",
      "Detecting bboxes: 100%|██████████| 1/1 [00:12<00:00, 12.00s/it]\n",
      "Detecting bboxes: 100%|██████████| 1/1 [00:10<00:00, 10.41s/it]\n",
      "Detecting bboxes: 100%|██████████| 1/1 [00:11<00:00, 11.38s/it]\n",
      "Detecting bboxes: 100%|██████████| 1/1 [00:05<00:00,  5.35s/it]\n",
      "Detecting bboxes: 100%|██████████| 1/1 [00:06<00:00,  6.90s/it]\n",
      "Detecting bboxes: 100%|██████████| 1/1 [00:03<00:00,  3.85s/it]\n",
      "Detecting bboxes: 100%|██████████| 1/1 [00:06<00:00,  6.85s/it]\n",
      "Detecting bboxes: 100%|██████████| 1/1 [00:04<00:00,  4.06s/it]\n",
      "Detecting bboxes: 100%|██████████| 1/1 [00:08<00:00,  8.07s/it]\n",
      "Detecting bboxes: 100%|██████████| 1/1 [00:03<00:00,  3.95s/it]\n"
     ]
    },
    {
     "name": "stdout",
     "output_type": "stream",
     "text": [
      "Processed paper_example/3.pdf\n"
     ]
    },
    {
     "name": "stderr",
     "output_type": "stream",
     "text": [
      "Detecting bboxes: 100%|██████████| 1/1 [00:07<00:00,  7.62s/it]\n",
      "Detecting bboxes: 100%|██████████| 1/1 [00:04<00:00,  4.21s/it]\n",
      "Detecting bboxes: 100%|██████████| 1/1 [00:06<00:00,  6.89s/it]\n",
      "Detecting bboxes: 100%|██████████| 1/1 [00:04<00:00,  4.02s/it]\n",
      "Detecting bboxes: 100%|██████████| 1/1 [00:06<00:00,  6.82s/it]\n",
      "Detecting bboxes: 100%|██████████| 1/1 [00:03<00:00,  3.98s/it]\n",
      "Detecting bboxes: 100%|██████████| 1/1 [00:06<00:00,  6.91s/it]\n",
      "Detecting bboxes: 100%|██████████| 1/1 [00:04<00:00,  4.40s/it]\n",
      "Detecting bboxes: 100%|██████████| 1/1 [00:06<00:00,  6.67s/it]\n",
      "Detecting bboxes: 100%|██████████| 1/1 [00:04<00:00,  4.46s/it]\n",
      "Detecting bboxes: 100%|██████████| 1/1 [00:07<00:00,  7.76s/it]\n",
      "Detecting bboxes: 100%|██████████| 1/1 [00:04<00:00,  4.35s/it]\n"
     ]
    },
    {
     "name": "stdout",
     "output_type": "stream",
     "text": [
      "Processed paper_example/2.pdf\n"
     ]
    }
   ],
   "source": [
    "# Validate input directory exists\n",
    "pdf_dir = Path(\"paper_example\")\n",
    "if not pdf_dir.exists():\n",
    "    raise FileNotFoundError(f\"PDF directory {pdf_dir} not found\")\n",
    "\n",
    "# Process all PDFs in the directory\n",
    "for pdf_file in pdf_dir.glob(\"*.pdf\"):\n",
    "    try:\n",
    "        # Create separate output directory for each PDF's extracted images\n",
    "        output_dir = pdf_file.with_suffix('') / \"cropped_images\"\n",
    "        output_dir.mkdir(parents=True, exist_ok=True)\n",
    "        \n",
    "        # Process PDF pages and extract figures\n",
    "        images = load_pdf_pages(str(pdf_file))\n",
    "        process_images(images, det_model, det_processor,\n",
    "                      rec_model, rec_processor, output_dir)\n",
    "        print(f\"Processed {pdf_file}\")\n",
    "    except Exception as e:\n",
    "        print(f\"Error processing {pdf_file}: {str(e)}\")"
   ]
  },
  {
   "cell_type": "markdown",
   "metadata": {},
   "source": [
    "## Image File Cleanup\n",
    "\n",
    "The following code removes images smaller than 4KB from specified directories."
   ]
  },
  {
   "cell_type": "code",
   "execution_count": 16,
   "metadata": {},
   "outputs": [],
   "source": [
    "def should_keep_image(image_path: Path, min_size_kb: int = 4) -> bool:\n",
    "   \n",
    "   \"\"\"Check if image is larger than minimum size in KB\"\"\"\n",
    "   \n",
    "   try:\n",
    "       size_kb = os.path.getsize(image_path) / 1024\n",
    "       return size_kb > min_size_kb\n",
    "   except Exception as e:\n",
    "       print(f\"Error checking size of {image_path}: {e}\")\n",
    "       return False"
   ]
  },
  {
   "cell_type": "code",
   "execution_count": 17,
   "metadata": {},
   "outputs": [],
   "source": [
    "def cleanup_small_images(base_dir: Path):\n",
    "   \n",
    "   \"\"\"Remove images smaller than 3KB from all subdirectories\"\"\"\n",
    "   \n",
    "   for pdf_dir in base_dir.glob(\"*/cropped_images\"):\n",
    "       for image_path in pdf_dir.glob(\"*.png\"):\n",
    "           if not should_keep_image(image_path):\n",
    "               image_path.unlink()\n",
    "               print(f\"Removed {image_path}\")"
   ]
  },
  {
   "cell_type": "code",
   "execution_count": 18,
   "metadata": {},
   "outputs": [
    {
     "name": "stdout",
     "output_type": "stream",
     "text": [
      "Removed paper_example/6/cropped_images/image_page0_6.png\n",
      "Removed paper_example/10/cropped_images/image_page0_8.png\n",
      "Removed paper_example/19/cropped_images/image_page0_6.png\n",
      "Removed paper_example/3/cropped_images/image_page0_6.png\n"
     ]
    }
   ],
   "source": [
    "base_dir = Path(\"paper_example\")\n",
    "cleanup_small_images(base_dir)"
   ]
  }
 ],
 "metadata": {
  "kernelspec": {
   "display_name": "surya",
   "language": "python",
   "name": "python3"
  },
  "language_info": {
   "codemirror_mode": {
    "name": "ipython",
    "version": 3
   },
   "file_extension": ".py",
   "mimetype": "text/x-python",
   "name": "python",
   "nbconvert_exporter": "python",
   "pygments_lexer": "ipython3",
   "version": "3.12.4"
  }
 },
 "nbformat": 4,
 "nbformat_minor": 2
}
