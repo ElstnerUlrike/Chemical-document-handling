{
 "cells": [
  {
   "cell_type": "code",
   "execution_count": null,
   "metadata": {},
   "outputs": [],
   "source": [
    "from rdkit import Chem\n",
    "from rdkit import DataStructs\n",
    "from rdkit.Chem import AllChem\n",
    "import re"
   ]
  },
  {
   "cell_type": "code",
   "execution_count": null,
   "metadata": {},
   "outputs": [],
   "source": [
    "def calculate_tanimoto_similarity(smiles1, smiles2):\n",
    "    # Convert SMILES to RDKit molecules\n",
    "    mol1 = Chem.MolFromSmiles(smiles1)\n",
    "    mol2 = Chem.MolFromSmiles(smiles2)\n",
    "    \n",
    "    if mol1 is None or mol2 is None:\n",
    "        return None  # Return None if SMILES strings are invalid\n",
    "    \n",
    "    # Generate Morgan fingerprints (ECFP4)\n",
    "    fp1 = AllChem.GetMorganFingerprintAsBitVect(mol1, 2, 2048)\n",
    "    fp2 = AllChem.GetMorganFingerprintAsBitVect(mol2, 2, 2048)\n",
    "    \n",
    "    # Calculate Tanimoto similarity\n",
    "    tanimoto_sim = DataStructs.TanimotoSimilarity(fp1, fp2)\n",
    "    \n",
    "    return tanimoto_sim"
   ]
  }
 ],
 "metadata": {
  "kernelspec": {
   "display_name": "smiles",
   "language": "python",
   "name": "python3"
  },
  "language_info": {
   "codemirror_mode": {
    "name": "ipython",
    "version": 3
   },
   "file_extension": ".py",
   "mimetype": "text/x-python",
   "name": "python",
   "nbconvert_exporter": "python",
   "pygments_lexer": "ipython3",
   "version": "3.11.11"
  }
 },
 "nbformat": 4,
 "nbformat_minor": 2
}
