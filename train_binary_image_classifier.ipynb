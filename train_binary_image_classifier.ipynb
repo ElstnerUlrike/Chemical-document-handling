{
 "cells": [
  {
   "cell_type": "code",
   "execution_count": null,
   "metadata": {},
   "outputs": [],
   "source": [
    "import torch\n",
    "import torch.nn as nn\n",
    "from torch.utils.data import DataLoader, Dataset\n",
    "from torchvision import transforms\n",
    "from datasets import load_dataset\n",
    "import os\n",
    "import torch.optim as optim\n",
    "from torchvision import datasets, transforms, models"
   ]
  },
  {
   "cell_type": "code",
   "execution_count": null,
   "metadata": {},
   "outputs": [],
   "source": [
    "# Access token for the Hugging Face API to download the dataset ACL-fig\n",
    "access_token = \"YOUR_ACCESS\"\n",
    "dataset_name = \"citeseerx/ACL-fig\""
   ]
  },
  {
   "cell_type": "markdown",
   "metadata": {},
   "source": [
    "## Loading the dataset\n",
    "\n",
    "We provide the chemical formulas dataset as part of this repository. They are `class1` in the `images` folder. The following code loads the `ACL-fig` dataset and copies the content into the local folder structure (as `class2`)."
   ]
  },
  {
   "cell_type": "code",
   "execution_count": null,
   "metadata": {},
   "outputs": [],
   "source": [
    "# Dataset ACL-fig-Dataset as base, enriched with our own samples\n",
    "dataset = load_dataset(dataset_name, token=access_token)\n",
    "\n",
    "print(f\"Dataset loaded, number of samples: {len(dataset)}\")"
   ]
  },
  {
   "cell_type": "code",
   "execution_count": null,
   "metadata": {},
   "outputs": [],
   "source": [
    "# Split dataset into train, test, and validation sets\n",
    "train_dataset = dataset['train'] \n",
    "test_dataset = dataset['test']\n",
    "valid_dataset = dataset['validation']"
   ]
  },
  {
   "cell_type": "code",
   "execution_count": null,
   "metadata": {},
   "outputs": [],
   "source": [
    "import os\n",
    "\n",
    "def save_images_to_directory(dataset, save_dir):\n",
    "\n",
    "    \"\"\"\n",
    "    Save images from a Hugging Face dataset to a local directory.\n",
    "    \n",
    "    Args:\n",
    "        dataset: Hugging Face dataset containing images\n",
    "        save_dir (str): Directory path where images will be saved\n",
    "    \"\"\"\n",
    "\n",
    "    # Create directory if it doesn't exist\n",
    "    if not os.path.exists(save_dir):\n",
    "        os.makedirs(save_dir)\n",
    "    \n",
    "    # Save all images from the HF dataset to the specified directory\n",
    "    for i, sample in enumerate(dataset):\n",
    "        # Check if the image is correctly found under the key \"image\"\n",
    "        if \"image\" in sample:\n",
    "            image = sample[\"image\"]\n",
    "            # Set the path for the image\n",
    "            image_save_path = os.path.join(save_dir, f\"image_{i}.jpg\")\n",
    "            # Save image as JPEG\n",
    "            image.save(image_save_path)\n",
    "            print(f\"Image {i} saved: {image_save_path}\")\n",
    "        else:\n",
    "            print(f\"No image found in dataset {i}\")\n",
    "\n",
    "# Define directories for saving train and test images\n",
    "save_dir_train = \"images/train/class2\"\n",
    "save_dir_test = \"images/test/class2\"\n",
    "\n",
    "# Save images to respective directories\n",
    "save_images_to_directory(train_dataset, save_dir_train)\n",
    "save_images_to_directory(test_dataset, save_dir_test)\n",
    "\n",
    "print(\"All images have been successfully downloaded and saved.\")"
   ]
  },
  {
   "cell_type": "code",
   "execution_count": null,
   "metadata": {},
   "outputs": [],
   "source": [
    "# Set up device (GPU if available, else CPU)\n",
    "device = torch.device(\"cuda\" if torch.cuda.is_available() else \"cpu\")"
   ]
  },
  {
   "cell_type": "code",
   "execution_count": null,
   "metadata": {},
   "outputs": [],
   "source": [
    "# Define image processing parameters\n",
    "image_size = 224\n",
    "batch_size = 32 "
   ]
  },
  {
   "cell_type": "code",
   "execution_count": null,
   "metadata": {},
   "outputs": [],
   "source": [
    "# Define image transformations pipeline\n",
    "transform = transforms.Compose([\n",
    "    transforms.Resize((image_size, image_size)),\n",
    "    transforms.ToTensor(),\n",
    "    # Normalize using ImageNet statistics for transfer learning\n",
    "    transforms.Normalize(mean=[0.485, 0.456, 0.406], std=[0.229, 0.224, 0.225])\n",
    "])"
   ]
  },
  {
   "cell_type": "code",
   "execution_count": null,
   "metadata": {},
   "outputs": [],
   "source": [
    "# Define paths to the train and test data directories\n",
    "# These directories should contain subdirectories for each class\n",
    "train_data_dir = './images/train'\n",
    "test_data_dir = './images/test'"
   ]
  },
  {
   "cell_type": "code",
   "execution_count": null,
   "metadata": {},
   "outputs": [],
   "source": [
    "# Create Dataset objects using ImageFolder\n",
    "# ImageFolder assumes a directory structure where:\n",
    "# - Each class has its own subdirectory\n",
    "# - Images for each class are stored in their respective subdirectory\n",
    "# The 'transform' parameter applies the previously defined preprocessing pipeline\n",
    "train_dataset = datasets.ImageFolder(\n",
    "    root=\"images/train\",\n",
    "    transform=transform\n",
    ")\n",
    "test_dataset = datasets.ImageFolder(\n",
    "    root=\"images/test\",\n",
    "    transform=transform"
   ]
  },
  {
   "cell_type": "code",
   "execution_count": null,
   "metadata": {},
   "outputs": [],
   "source": [
    "# Create DataLoader instances for efficient batch processing\n",
    "train_loader = DataLoader(\n",
    "    dataset=train_dataset,\n",
    "    batch_size=32,     # Number of samples per batch\n",
    "    shuffle=True       # Shuffle data during training to prevent learning order dependencies\n",
    ")\n",
    "test_loader = DataLoader(\n",
    "    dataset=test_dataset,\n",
    "    batch_size=32,     # Keep batch size consistent with training\n",
    "    shuffle=False      # No need to shuffle test data\n",
    ")"
   ]
  },
  {
   "cell_type": "markdown",
   "metadata": {},
   "source": [
    "## Modeltraining for Binary Classification\n",
    "We implement a comprehensive training pipeline for binary image classification using multiple state-of-the-art CNN architectures. The code includes a generic training function `train_model` that handles the training process for all models, followed by individual initialization and training of four different architectures: ResNet-18, AlexNet, EfficientNet-B0, and RegNet-Y-400MF.\n",
    "Each model is pre-trained on ImageNet and modified for our binary classification task by adjusting the final classification layer. The training process includes:\n",
    "\n",
    "- 10 epochs of training for each model\n",
    "- Adam optimizer with a learning rate of 0.001\n",
    "- CrossEntropyLoss as the loss function\n",
    "- Automatic GPU utilization when available\n",
    "- Real-time loss tracking and final accuracy evaluation\n",
    "\n",
    "The models are trained sequentially, allowing for direct comparison of their performance on the chemical formulas (`class1`) and ACL-fig (`class2`) dataset. Each model's training progress and final test accuracy are logged for performance analysis."
   ]
  },
  {
   "cell_type": "code",
   "execution_count": null,
   "metadata": {},
   "outputs": [],
   "source": [
    "def train_model(model_name, model, num_epochs=10, learning_rate=0.001):\n",
    "\n",
    "    \"\"\"\n",
    "    Generic training function for image classification models\n",
    "\n",
    "    Args:\n",
    "        model_name (str): Name identifier for the model being trained\n",
    "        model (torch.nn.Module): Neural network model to be trained\n",
    "        num_epochs (int): Number of complete passes through the training dataset\n",
    "        learning_rate (float): Step size for optimizer updates\n",
    "\n",
    "    Returns:\n",
    "        model: Trained PyTorch model\n",
    "    \"\"\"\n",
    "    \n",
    "    # Move model to device (GPU if available, else CPU)\n",
    "    model = model.to(device)\n",
    "\n",
    "    # Initialize loss function and optimizer\n",
    "    criterion = nn.CrossEntropyLoss()\n",
    "    optimizer = optim.Adam(model.parameters(), lr=learning_rate)\n",
    "    \n",
    "    # Main training loop - iterate through epoch\n",
    "    for epoch in range(num_epochs):\n",
    "        model.train()\n",
    "        running_loss = 0.0\n",
    "        \n",
    "        for images, labels in train_loader:\n",
    "            images, labels = images.to(device), labels.to(device)\n",
    "            \n",
    "            # Forward pass\n",
    "            outputs = model(images)\n",
    "            loss = criterion(outputs, labels)\n",
    "            \n",
    "            # Backward pass and optimization\n",
    "            optimizer.zero_grad()\n",
    "            loss.backward()\n",
    "            optimizer.step()\n",
    "            \n",
    "            running_loss += loss.item()\n",
    "            \n",
    "        # Print training progress after each epoch\n",
    "        print(f\"{model_name} - Epoch [{epoch+1}/{num_epochs}], \"\n",
    "              f\"Loss: {running_loss/len(train_loader):.4f}\")\n",
    "    \n",
    "    # Evaluation phase - test model performance\n",
    "    model.eval()\n",
    "    correct = 0\n",
    "    total = 0\n",
    "    \n",
    "    # Disable gradient computation for evaluation\n",
    "    with torch.no_grad():\n",
    "        # Iterate through test dataset\n",
    "        for images, labels in test_loader:\n",
    "            images, labels = images.to(device), labels.to(device)\n",
    "            outputs = model(images)\n",
    "            _, predicted = torch.max(outputs.data, 1)       # Get predicted class labels\n",
    "            total += labels.size(0)                         # Count total samples\n",
    "            correct += (predicted == labels).sum().item()   # Count correct predictions\n",
    "    \n",
    "    # Print final accuracy\n",
    "    print(f\"{model_name} Test Accuracy: {100 * correct / total:.2f}%\")\n",
    "    return model"
   ]
  },
  {
   "cell_type": "markdown",
   "metadata": {},
   "source": [
    "#### ResNet-18"
   ]
  },
  {
   "cell_type": "code",
   "execution_count": null,
   "metadata": {},
   "outputs": [],
   "source": [
    "# Initialize ResNet-18\n",
    "resnet18_model = models.resnet18(pretrained=True)\n",
    "num_ftrs = resnet18_model.fc.in_features\n",
    "resnet18_model.fc = nn.Linear(num_ftrs, 2)"
   ]
  },
  {
   "cell_type": "code",
   "execution_count": null,
   "metadata": {},
   "outputs": [],
   "source": [
    "# Train ResNet-18\n",
    "print(\"\\nTraining ResNet-18...\")\n",
    "trained_resnet = train_model(\n",
    "    model_name=\"ResNet-18\",\n",
    "    model=resnet18_model,\n",
    "    num_epochs=10,\n",
    "    learning_rate=0.001\n",
    ")"
   ]
  },
  {
   "cell_type": "markdown",
   "metadata": {},
   "source": [
    "#### AlexNet"
   ]
  },
  {
   "cell_type": "code",
   "execution_count": null,
   "metadata": {},
   "outputs": [],
   "source": [
    "# Initialize AlexNet\n",
    "alexnet_model = models.alexnet(pretrained=True)\n",
    "num_ftrs = alexnet_model.classifier[6].in_features\n",
    "alexnet_model.classifier[6] = nn.Linear(num_ftrs, 2)"
   ]
  },
  {
   "cell_type": "code",
   "execution_count": null,
   "metadata": {},
   "outputs": [],
   "source": [
    "# Train AlexNet\n",
    "print(\"\\nTraining AlexNet...\")\n",
    "trained_alexnet = train_model(\n",
    "    model_name=\"AlexNet\",\n",
    "    model=alexnet_model,\n",
    "    num_epochs=10,\n",
    "    learning_rate=0.001\n",
    ")"
   ]
  },
  {
   "cell_type": "markdown",
   "metadata": {},
   "source": [
    "#### EfficientNet"
   ]
  },
  {
   "cell_type": "code",
   "execution_count": null,
   "metadata": {},
   "outputs": [],
   "source": [
    "# Initialize EfficientNet\n",
    "efficientnet_model = models.efficientnet_b0(pretrained=True)\n",
    "num_ftrs = efficientnet_model.classifier[1].in_features\n",
    "efficientnet_model.classifier[1] = nn.Linear(num_ftrs, 2)"
   ]
  },
  {
   "cell_type": "code",
   "execution_count": null,
   "metadata": {},
   "outputs": [],
   "source": [
    "# Train EfficientNet\n",
    "print(\"\\nTraining EfficientNet-B0...\")\n",
    "trained_efficientnet = train_model(\n",
    "    model_name=\"EfficientNet-B0\",\n",
    "    model=efficientnet_model,\n",
    "    num_epochs=10,\n",
    "    learning_rate=0.001\n",
    ")"
   ]
  },
  {
   "cell_type": "markdown",
   "metadata": {},
   "source": [
    "#### RegNet-Y-400MF"
   ]
  },
  {
   "cell_type": "code",
   "execution_count": null,
   "metadata": {},
   "outputs": [],
   "source": [
    "# Initialize RegNet\n",
    "regnet_model = models.regnet_y_400mf(pretrained=True)\n",
    "num_ftrs = regnet_model.fc.in_features\n",
    "regnet_model.fc = nn.Linear(num_ftrs, 2)"
   ]
  },
  {
   "cell_type": "code",
   "execution_count": null,
   "metadata": {},
   "outputs": [],
   "source": [
    "# Train RegNet\n",
    "print(\"\\nTraining RegNet-Y-400MF...\")\n",
    "trained_regnet = train_model(\n",
    "    model_name=\"RegNet-Y-400MF\",\n",
    "    model=regnet_model,\n",
    "    num_epochs=10,\n",
    "    learning_rate=0.001\n",
    ")"
   ]
  }
 ],
 "metadata": {
  "kernelspec": {
   "display_name": "vitmodel",
   "language": "python",
   "name": "python3"
  },
  "language_info": {
   "codemirror_mode": {
    "name": "ipython",
    "version": 3
   },
   "file_extension": ".py",
   "mimetype": "text/x-python",
   "name": "python",
   "nbconvert_exporter": "python",
   "pygments_lexer": "ipython3",
   "version": "3.11.9"
  }
 },
 "nbformat": 4,
 "nbformat_minor": 2
}
