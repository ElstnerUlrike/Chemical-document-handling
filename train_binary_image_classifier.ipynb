{
 "cells": [
  {
   "cell_type": "code",
   "execution_count": null,
   "metadata": {},
   "outputs": [],
   "source": [
    "import torch\n",
    "import torch.nn as nn\n",
    "from torch.utils.data import DataLoader, Dataset\n",
    "from torchvision import transforms\n",
    "from datasets import load_dataset\n",
    "import os\n",
    "import torch.optim as optim\n",
    "from torchvision import datasets, transforms, models"
   ]
  },
  {
   "cell_type": "code",
   "execution_count": null,
   "metadata": {},
   "outputs": [],
   "source": [
    "# Access token for the Hugging Face API to download the dataset ACL-fig\n",
    "# access_token = \"YOUR_ACCESS\"\n",
    "dataset_name = \"citeseerx/ACL-fig\""
   ]
  },
  {
   "cell_type": "markdown",
   "metadata": {},
   "source": [
    "## Loading the dataset\n",
    "\n",
    "We provide the chemical formulas dataset as part of this repository. They are `class1` in the `images` folder. The following code loads the `ACL-fig` dataset and copies the content into the local folder structure (as `class2`)."
   ]
  },
  {
   "cell_type": "code",
   "execution_count": null,
   "metadata": {},
   "outputs": [],
   "source": [
    "# Dataset ACL-fig-Dataset as base, enriched with our own samples\n",
    "dataset = load_dataset(dataset_name, token=access_token)\n",
    "\n",
    "print(f\"Dataset loaded, number of samples: {len(dataset)}\")"
   ]
  },
  {
   "cell_type": "code",
   "execution_count": null,
   "metadata": {},
   "outputs": [],
   "source": [
    "train_dataset = dataset['train'] \n",
    "test_dataset = dataset['test']\n",
    "valid_dataset = dataset['validation']"
   ]
  },
  {
   "cell_type": "code",
   "execution_count": null,
   "metadata": {},
   "outputs": [],
   "source": [
    "import os\n",
    "\n",
    "def save_images_to_directory(dataset, save_dir):\n",
    "    if not os.path.exists(save_dir):\n",
    "        os.makedirs(save_dir)\n",
    "    \n",
    "    # Save all images from the HF dataset to the specified directory\n",
    "    for i, sample in enumerate(dataset):\n",
    "        # Check if the image is correctly found under the key \"image\"\n",
    "        if \"image\" in sample:\n",
    "            image = sample[\"image\"]\n",
    "            # Set the path for the image\n",
    "            image_save_path = os.path.join(save_dir, f\"image_{i}.jpg\")\n",
    "            # Save image as JPEG\n",
    "            image.save(image_save_path)\n",
    "            print(f\"Image {i} saved: {image_save_path}\")\n",
    "        else:\n",
    "            print(f\"No image found in dataset {i}\")\n",
    "\n",
    "save_dir_train = \"images/train/class2\"\n",
    "save_dir_test = \"images/test/class2\"\n",
    "\n",
    "save_images_to_directory(train_dataset, save_dir_train)\n",
    "save_images_to_directory(test_dataset, save_dir_test)\n",
    "\n",
    "print(\"All images have been successfully downloaded and saved.\")"
   ]
  }
 ],
 "metadata": {
  "kernelspec": {
   "display_name": "vitmodel",
   "language": "python",
   "name": "python3"
  },
  "language_info": {
   "codemirror_mode": {
    "name": "ipython",
    "version": 3
   },
   "file_extension": ".py",
   "mimetype": "text/x-python",
   "name": "python",
   "nbconvert_exporter": "python",
   "pygments_lexer": "ipython3",
   "version": "3.11.9"
  }
 },
 "nbformat": 4,
 "nbformat_minor": 2
}
